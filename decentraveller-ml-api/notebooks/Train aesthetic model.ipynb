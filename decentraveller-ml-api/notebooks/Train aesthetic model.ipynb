{
 "cells": [
  {
   "cell_type": "code",
   "execution_count": 1,
   "id": "e77a398a-b74d-446e-af4e-500b58ff200a",
   "metadata": {
    "pycharm": {
     "name": "#%%\n"
    }
   },
   "outputs": [],
   "source": [
    "import pandas as pd\n",
    "import matplotlib.pyplot as plt"
   ]
  },
  {
   "cell_type": "code",
   "execution_count": 2,
   "id": "96f41e9c-afa5-4b0a-a2ad-5d205dfc3509",
   "metadata": {
    "pycharm": {
     "name": "#%%\n"
    }
   },
   "outputs": [],
   "source": [
    "AVA_DATASET_BASE_PATH = \"/mnt/z/Descargas/AVA_Dataset\"\n",
    "IMAGES_PATH = AVA_DATASET_BASE_PATH + \"/images/images/{image_id}.jpg\""
   ]
  },
  {
   "cell_type": "code",
   "execution_count": 3,
   "id": "ce96030f-b8ba-407b-b15b-3926edb3b7df",
   "metadata": {
    "pycharm": {
     "name": "#%%\n"
    }
   },
   "outputs": [],
   "source": [
    "images_data = pd.read_csv(AVA_DATASET_BASE_PATH + \"/AVA.txt\", sep=' ', header=None,\n",
    "                          names=(['index', 'image_id'] + [str(i) for i in range(1, 11)] + [\"tag1\", \"tag2\", \"challenge_id\"])).drop(columns=\"index\")"
   ]
  },
  {
   "cell_type": "code",
   "execution_count": 4,
   "id": "765c74fe-e330-4797-a644-d9d6b7f09bbb",
   "metadata": {
    "pycharm": {
     "name": "#%%\n"
    }
   },
   "outputs": [
    {
     "data": {
      "text/html": [
       "<div>\n",
       "<style scoped>\n",
       "    .dataframe tbody tr th:only-of-type {\n",
       "        vertical-align: middle;\n",
       "    }\n",
       "\n",
       "    .dataframe tbody tr th {\n",
       "        vertical-align: top;\n",
       "    }\n",
       "\n",
       "    .dataframe thead th {\n",
       "        text-align: right;\n",
       "    }\n",
       "</style>\n",
       "<table border=\"1\" class=\"dataframe\">\n",
       "  <thead>\n",
       "    <tr style=\"text-align: right;\">\n",
       "      <th></th>\n",
       "      <th>image_id</th>\n",
       "      <th>1</th>\n",
       "      <th>2</th>\n",
       "      <th>3</th>\n",
       "      <th>4</th>\n",
       "      <th>5</th>\n",
       "      <th>6</th>\n",
       "      <th>7</th>\n",
       "      <th>8</th>\n",
       "      <th>9</th>\n",
       "      <th>10</th>\n",
       "      <th>tag1</th>\n",
       "      <th>tag2</th>\n",
       "      <th>challenge_id</th>\n",
       "    </tr>\n",
       "  </thead>\n",
       "  <tbody>\n",
       "    <tr>\n",
       "      <th>0</th>\n",
       "      <td>953619</td>\n",
       "      <td>0</td>\n",
       "      <td>1</td>\n",
       "      <td>5</td>\n",
       "      <td>17</td>\n",
       "      <td>38</td>\n",
       "      <td>36</td>\n",
       "      <td>15</td>\n",
       "      <td>6</td>\n",
       "      <td>5</td>\n",
       "      <td>1</td>\n",
       "      <td>1</td>\n",
       "      <td>22</td>\n",
       "      <td>1396</td>\n",
       "    </tr>\n",
       "    <tr>\n",
       "      <th>1</th>\n",
       "      <td>953958</td>\n",
       "      <td>10</td>\n",
       "      <td>7</td>\n",
       "      <td>15</td>\n",
       "      <td>26</td>\n",
       "      <td>26</td>\n",
       "      <td>21</td>\n",
       "      <td>10</td>\n",
       "      <td>8</td>\n",
       "      <td>1</td>\n",
       "      <td>2</td>\n",
       "      <td>1</td>\n",
       "      <td>21</td>\n",
       "      <td>1396</td>\n",
       "    </tr>\n",
       "    <tr>\n",
       "      <th>2</th>\n",
       "      <td>954184</td>\n",
       "      <td>0</td>\n",
       "      <td>0</td>\n",
       "      <td>4</td>\n",
       "      <td>8</td>\n",
       "      <td>41</td>\n",
       "      <td>56</td>\n",
       "      <td>10</td>\n",
       "      <td>3</td>\n",
       "      <td>4</td>\n",
       "      <td>0</td>\n",
       "      <td>0</td>\n",
       "      <td>0</td>\n",
       "      <td>1396</td>\n",
       "    </tr>\n",
       "    <tr>\n",
       "      <th>3</th>\n",
       "      <td>954113</td>\n",
       "      <td>0</td>\n",
       "      <td>1</td>\n",
       "      <td>4</td>\n",
       "      <td>6</td>\n",
       "      <td>48</td>\n",
       "      <td>37</td>\n",
       "      <td>23</td>\n",
       "      <td>5</td>\n",
       "      <td>2</td>\n",
       "      <td>2</td>\n",
       "      <td>15</td>\n",
       "      <td>21</td>\n",
       "      <td>1396</td>\n",
       "    </tr>\n",
       "    <tr>\n",
       "      <th>4</th>\n",
       "      <td>953980</td>\n",
       "      <td>0</td>\n",
       "      <td>3</td>\n",
       "      <td>6</td>\n",
       "      <td>15</td>\n",
       "      <td>57</td>\n",
       "      <td>39</td>\n",
       "      <td>6</td>\n",
       "      <td>1</td>\n",
       "      <td>1</td>\n",
       "      <td>1</td>\n",
       "      <td>22</td>\n",
       "      <td>38</td>\n",
       "      <td>1396</td>\n",
       "    </tr>\n",
       "    <tr>\n",
       "      <th>...</th>\n",
       "      <td>...</td>\n",
       "      <td>...</td>\n",
       "      <td>...</td>\n",
       "      <td>...</td>\n",
       "      <td>...</td>\n",
       "      <td>...</td>\n",
       "      <td>...</td>\n",
       "      <td>...</td>\n",
       "      <td>...</td>\n",
       "      <td>...</td>\n",
       "      <td>...</td>\n",
       "      <td>...</td>\n",
       "      <td>...</td>\n",
       "      <td>...</td>\n",
       "    </tr>\n",
       "    <tr>\n",
       "      <th>255525</th>\n",
       "      <td>56938</td>\n",
       "      <td>1</td>\n",
       "      <td>7</td>\n",
       "      <td>17</td>\n",
       "      <td>40</td>\n",
       "      <td>84</td>\n",
       "      <td>56</td>\n",
       "      <td>31</td>\n",
       "      <td>13</td>\n",
       "      <td>6</td>\n",
       "      <td>1</td>\n",
       "      <td>9</td>\n",
       "      <td>0</td>\n",
       "      <td>181</td>\n",
       "    </tr>\n",
       "    <tr>\n",
       "      <th>255526</th>\n",
       "      <td>57304</td>\n",
       "      <td>1</td>\n",
       "      <td>0</td>\n",
       "      <td>8</td>\n",
       "      <td>25</td>\n",
       "      <td>50</td>\n",
       "      <td>65</td>\n",
       "      <td>55</td>\n",
       "      <td>26</td>\n",
       "      <td>18</td>\n",
       "      <td>7</td>\n",
       "      <td>1</td>\n",
       "      <td>18</td>\n",
       "      <td>181</td>\n",
       "    </tr>\n",
       "    <tr>\n",
       "      <th>255527</th>\n",
       "      <td>56711</td>\n",
       "      <td>0</td>\n",
       "      <td>0</td>\n",
       "      <td>8</td>\n",
       "      <td>11</td>\n",
       "      <td>26</td>\n",
       "      <td>47</td>\n",
       "      <td>48</td>\n",
       "      <td>56</td>\n",
       "      <td>30</td>\n",
       "      <td>22</td>\n",
       "      <td>9</td>\n",
       "      <td>24</td>\n",
       "      <td>181</td>\n",
       "    </tr>\n",
       "    <tr>\n",
       "      <th>255528</th>\n",
       "      <td>57303</td>\n",
       "      <td>0</td>\n",
       "      <td>2</td>\n",
       "      <td>19</td>\n",
       "      <td>30</td>\n",
       "      <td>75</td>\n",
       "      <td>60</td>\n",
       "      <td>30</td>\n",
       "      <td>25</td>\n",
       "      <td>5</td>\n",
       "      <td>2</td>\n",
       "      <td>22</td>\n",
       "      <td>0</td>\n",
       "      <td>181</td>\n",
       "    </tr>\n",
       "    <tr>\n",
       "      <th>255529</th>\n",
       "      <td>57221</td>\n",
       "      <td>1</td>\n",
       "      <td>3</td>\n",
       "      <td>10</td>\n",
       "      <td>39</td>\n",
       "      <td>51</td>\n",
       "      <td>61</td>\n",
       "      <td>39</td>\n",
       "      <td>29</td>\n",
       "      <td>5</td>\n",
       "      <td>7</td>\n",
       "      <td>19</td>\n",
       "      <td>21</td>\n",
       "      <td>181</td>\n",
       "    </tr>\n",
       "  </tbody>\n",
       "</table>\n",
       "<p>255530 rows × 14 columns</p>\n",
       "</div>"
      ],
      "text/plain": [
       "        image_id   1  2   3   4   5   6   7   8   9  10  tag1  tag2  \\\n",
       "0         953619   0  1   5  17  38  36  15   6   5   1     1    22   \n",
       "1         953958  10  7  15  26  26  21  10   8   1   2     1    21   \n",
       "2         954184   0  0   4   8  41  56  10   3   4   0     0     0   \n",
       "3         954113   0  1   4   6  48  37  23   5   2   2    15    21   \n",
       "4         953980   0  3   6  15  57  39   6   1   1   1    22    38   \n",
       "...          ...  .. ..  ..  ..  ..  ..  ..  ..  ..  ..   ...   ...   \n",
       "255525     56938   1  7  17  40  84  56  31  13   6   1     9     0   \n",
       "255526     57304   1  0   8  25  50  65  55  26  18   7     1    18   \n",
       "255527     56711   0  0   8  11  26  47  48  56  30  22     9    24   \n",
       "255528     57303   0  2  19  30  75  60  30  25   5   2    22     0   \n",
       "255529     57221   1  3  10  39  51  61  39  29   5   7    19    21   \n",
       "\n",
       "        challenge_id  \n",
       "0               1396  \n",
       "1               1396  \n",
       "2               1396  \n",
       "3               1396  \n",
       "4               1396  \n",
       "...              ...  \n",
       "255525           181  \n",
       "255526           181  \n",
       "255527           181  \n",
       "255528           181  \n",
       "255529           181  \n",
       "\n",
       "[255530 rows x 14 columns]"
      ]
     },
     "execution_count": 4,
     "metadata": {},
     "output_type": "execute_result"
    }
   ],
   "source": [
    "images_data"
   ]
  },
  {
   "cell_type": "code",
   "execution_count": 5,
   "id": "977ecec0-5255-44c3-9e07-3ec9ce0f6868",
   "metadata": {
    "pycharm": {
     "name": "#%%\n"
    }
   },
   "outputs": [
    {
     "data": {
      "text/html": [
       "<div>\n",
       "<style scoped>\n",
       "    .dataframe tbody tr th:only-of-type {\n",
       "        vertical-align: middle;\n",
       "    }\n",
       "\n",
       "    .dataframe tbody tr th {\n",
       "        vertical-align: top;\n",
       "    }\n",
       "\n",
       "    .dataframe thead th {\n",
       "        text-align: right;\n",
       "    }\n",
       "</style>\n",
       "<table border=\"1\" class=\"dataframe\">\n",
       "  <thead>\n",
       "    <tr style=\"text-align: right;\">\n",
       "      <th></th>\n",
       "      <th>image_id</th>\n",
       "      <th>1</th>\n",
       "      <th>2</th>\n",
       "      <th>3</th>\n",
       "      <th>4</th>\n",
       "      <th>5</th>\n",
       "      <th>6</th>\n",
       "      <th>7</th>\n",
       "      <th>8</th>\n",
       "      <th>9</th>\n",
       "      <th>10</th>\n",
       "      <th>tag1</th>\n",
       "      <th>tag2</th>\n",
       "      <th>challenge_id</th>\n",
       "      <th>total_votes</th>\n",
       "      <th>score</th>\n",
       "    </tr>\n",
       "  </thead>\n",
       "  <tbody>\n",
       "    <tr>\n",
       "      <th>0</th>\n",
       "      <td>953619</td>\n",
       "      <td>0</td>\n",
       "      <td>1</td>\n",
       "      <td>5</td>\n",
       "      <td>17</td>\n",
       "      <td>38</td>\n",
       "      <td>36</td>\n",
       "      <td>15</td>\n",
       "      <td>6</td>\n",
       "      <td>5</td>\n",
       "      <td>1</td>\n",
       "      <td>1</td>\n",
       "      <td>22</td>\n",
       "      <td>1396</td>\n",
       "      <td>124</td>\n",
       "      <td>0.563710</td>\n",
       "    </tr>\n",
       "    <tr>\n",
       "      <th>1</th>\n",
       "      <td>953958</td>\n",
       "      <td>10</td>\n",
       "      <td>7</td>\n",
       "      <td>15</td>\n",
       "      <td>26</td>\n",
       "      <td>26</td>\n",
       "      <td>21</td>\n",
       "      <td>10</td>\n",
       "      <td>8</td>\n",
       "      <td>1</td>\n",
       "      <td>2</td>\n",
       "      <td>1</td>\n",
       "      <td>21</td>\n",
       "      <td>1396</td>\n",
       "      <td>126</td>\n",
       "      <td>0.469841</td>\n",
       "    </tr>\n",
       "    <tr>\n",
       "      <th>2</th>\n",
       "      <td>954184</td>\n",
       "      <td>0</td>\n",
       "      <td>0</td>\n",
       "      <td>4</td>\n",
       "      <td>8</td>\n",
       "      <td>41</td>\n",
       "      <td>56</td>\n",
       "      <td>10</td>\n",
       "      <td>3</td>\n",
       "      <td>4</td>\n",
       "      <td>0</td>\n",
       "      <td>0</td>\n",
       "      <td>0</td>\n",
       "      <td>1396</td>\n",
       "      <td>126</td>\n",
       "      <td>0.567460</td>\n",
       "    </tr>\n",
       "    <tr>\n",
       "      <th>3</th>\n",
       "      <td>954113</td>\n",
       "      <td>0</td>\n",
       "      <td>1</td>\n",
       "      <td>4</td>\n",
       "      <td>6</td>\n",
       "      <td>48</td>\n",
       "      <td>37</td>\n",
       "      <td>23</td>\n",
       "      <td>5</td>\n",
       "      <td>2</td>\n",
       "      <td>2</td>\n",
       "      <td>15</td>\n",
       "      <td>21</td>\n",
       "      <td>1396</td>\n",
       "      <td>128</td>\n",
       "      <td>0.577344</td>\n",
       "    </tr>\n",
       "    <tr>\n",
       "      <th>4</th>\n",
       "      <td>953980</td>\n",
       "      <td>0</td>\n",
       "      <td>3</td>\n",
       "      <td>6</td>\n",
       "      <td>15</td>\n",
       "      <td>57</td>\n",
       "      <td>39</td>\n",
       "      <td>6</td>\n",
       "      <td>1</td>\n",
       "      <td>1</td>\n",
       "      <td>1</td>\n",
       "      <td>22</td>\n",
       "      <td>38</td>\n",
       "      <td>1396</td>\n",
       "      <td>129</td>\n",
       "      <td>0.520930</td>\n",
       "    </tr>\n",
       "    <tr>\n",
       "      <th>...</th>\n",
       "      <td>...</td>\n",
       "      <td>...</td>\n",
       "      <td>...</td>\n",
       "      <td>...</td>\n",
       "      <td>...</td>\n",
       "      <td>...</td>\n",
       "      <td>...</td>\n",
       "      <td>...</td>\n",
       "      <td>...</td>\n",
       "      <td>...</td>\n",
       "      <td>...</td>\n",
       "      <td>...</td>\n",
       "      <td>...</td>\n",
       "      <td>...</td>\n",
       "      <td>...</td>\n",
       "      <td>...</td>\n",
       "    </tr>\n",
       "    <tr>\n",
       "      <th>255525</th>\n",
       "      <td>56938</td>\n",
       "      <td>1</td>\n",
       "      <td>7</td>\n",
       "      <td>17</td>\n",
       "      <td>40</td>\n",
       "      <td>84</td>\n",
       "      <td>56</td>\n",
       "      <td>31</td>\n",
       "      <td>13</td>\n",
       "      <td>6</td>\n",
       "      <td>1</td>\n",
       "      <td>9</td>\n",
       "      <td>0</td>\n",
       "      <td>181</td>\n",
       "      <td>256</td>\n",
       "      <td>0.533984</td>\n",
       "    </tr>\n",
       "    <tr>\n",
       "      <th>255526</th>\n",
       "      <td>57304</td>\n",
       "      <td>1</td>\n",
       "      <td>0</td>\n",
       "      <td>8</td>\n",
       "      <td>25</td>\n",
       "      <td>50</td>\n",
       "      <td>65</td>\n",
       "      <td>55</td>\n",
       "      <td>26</td>\n",
       "      <td>18</td>\n",
       "      <td>7</td>\n",
       "      <td>1</td>\n",
       "      <td>18</td>\n",
       "      <td>181</td>\n",
       "      <td>255</td>\n",
       "      <td>0.623529</td>\n",
       "    </tr>\n",
       "    <tr>\n",
       "      <th>255527</th>\n",
       "      <td>56711</td>\n",
       "      <td>0</td>\n",
       "      <td>0</td>\n",
       "      <td>8</td>\n",
       "      <td>11</td>\n",
       "      <td>26</td>\n",
       "      <td>47</td>\n",
       "      <td>48</td>\n",
       "      <td>56</td>\n",
       "      <td>30</td>\n",
       "      <td>22</td>\n",
       "      <td>9</td>\n",
       "      <td>24</td>\n",
       "      <td>181</td>\n",
       "      <td>248</td>\n",
       "      <td>0.707258</td>\n",
       "    </tr>\n",
       "    <tr>\n",
       "      <th>255528</th>\n",
       "      <td>57303</td>\n",
       "      <td>0</td>\n",
       "      <td>2</td>\n",
       "      <td>19</td>\n",
       "      <td>30</td>\n",
       "      <td>75</td>\n",
       "      <td>60</td>\n",
       "      <td>30</td>\n",
       "      <td>25</td>\n",
       "      <td>5</td>\n",
       "      <td>2</td>\n",
       "      <td>22</td>\n",
       "      <td>0</td>\n",
       "      <td>181</td>\n",
       "      <td>248</td>\n",
       "      <td>0.560887</td>\n",
       "    </tr>\n",
       "    <tr>\n",
       "      <th>255529</th>\n",
       "      <td>57221</td>\n",
       "      <td>1</td>\n",
       "      <td>3</td>\n",
       "      <td>10</td>\n",
       "      <td>39</td>\n",
       "      <td>51</td>\n",
       "      <td>61</td>\n",
       "      <td>39</td>\n",
       "      <td>29</td>\n",
       "      <td>5</td>\n",
       "      <td>7</td>\n",
       "      <td>19</td>\n",
       "      <td>21</td>\n",
       "      <td>181</td>\n",
       "      <td>245</td>\n",
       "      <td>0.585306</td>\n",
       "    </tr>\n",
       "  </tbody>\n",
       "</table>\n",
       "<p>255530 rows × 16 columns</p>\n",
       "</div>"
      ],
      "text/plain": [
       "        image_id   1  2   3   4   5   6   7   8   9  10  tag1  tag2  \\\n",
       "0         953619   0  1   5  17  38  36  15   6   5   1     1    22   \n",
       "1         953958  10  7  15  26  26  21  10   8   1   2     1    21   \n",
       "2         954184   0  0   4   8  41  56  10   3   4   0     0     0   \n",
       "3         954113   0  1   4   6  48  37  23   5   2   2    15    21   \n",
       "4         953980   0  3   6  15  57  39   6   1   1   1    22    38   \n",
       "...          ...  .. ..  ..  ..  ..  ..  ..  ..  ..  ..   ...   ...   \n",
       "255525     56938   1  7  17  40  84  56  31  13   6   1     9     0   \n",
       "255526     57304   1  0   8  25  50  65  55  26  18   7     1    18   \n",
       "255527     56711   0  0   8  11  26  47  48  56  30  22     9    24   \n",
       "255528     57303   0  2  19  30  75  60  30  25   5   2    22     0   \n",
       "255529     57221   1  3  10  39  51  61  39  29   5   7    19    21   \n",
       "\n",
       "        challenge_id  total_votes     score  \n",
       "0               1396          124  0.563710  \n",
       "1               1396          126  0.469841  \n",
       "2               1396          126  0.567460  \n",
       "3               1396          128  0.577344  \n",
       "4               1396          129  0.520930  \n",
       "...              ...          ...       ...  \n",
       "255525           181          256  0.533984  \n",
       "255526           181          255  0.623529  \n",
       "255527           181          248  0.707258  \n",
       "255528           181          248  0.560887  \n",
       "255529           181          245  0.585306  \n",
       "\n",
       "[255530 rows x 16 columns]"
      ]
     },
     "execution_count": 5,
     "metadata": {},
     "output_type": "execute_result"
    }
   ],
   "source": [
    "images_data['total_votes'] = images_data[[str(i) for i in range(1, 11)]].sum(axis=1)\n",
    "images_data['score'] = sum(images_data[str(i)]*i/10 for i in range(1, 11))/images_data['total_votes']\n",
    "images_data"
   ]
  },
  {
   "cell_type": "code",
   "execution_count": 6,
   "id": "acd6ccd2-11af-442a-8bf6-46cc549e2782",
   "metadata": {
    "pycharm": {
     "name": "#%%\n"
    }
   },
   "outputs": [
    {
     "data": {
      "text/plain": [
       "78"
      ]
     },
     "execution_count": 6,
     "metadata": {},
     "output_type": "execute_result"
    }
   ],
   "source": [
    "images_data['total_votes'].min()"
   ]
  },
  {
   "cell_type": "code",
   "execution_count": 7,
   "id": "f40ef024-2077-4446-b5e8-2275984878d0",
   "metadata": {
    "pycharm": {
     "name": "#%%\n"
    }
   },
   "outputs": [
    {
     "data": {
      "text/html": [
       "<div>\n",
       "<style scoped>\n",
       "    .dataframe tbody tr th:only-of-type {\n",
       "        vertical-align: middle;\n",
       "    }\n",
       "\n",
       "    .dataframe tbody tr th {\n",
       "        vertical-align: top;\n",
       "    }\n",
       "\n",
       "    .dataframe thead th {\n",
       "        text-align: right;\n",
       "    }\n",
       "</style>\n",
       "<table border=\"1\" class=\"dataframe\">\n",
       "  <thead>\n",
       "    <tr style=\"text-align: right;\">\n",
       "      <th></th>\n",
       "      <th>image_id</th>\n",
       "      <th>score</th>\n",
       "    </tr>\n",
       "  </thead>\n",
       "  <tbody>\n",
       "    <tr>\n",
       "      <th>0</th>\n",
       "      <td>953619</td>\n",
       "      <td>0.563710</td>\n",
       "    </tr>\n",
       "    <tr>\n",
       "      <th>1</th>\n",
       "      <td>953958</td>\n",
       "      <td>0.469841</td>\n",
       "    </tr>\n",
       "    <tr>\n",
       "      <th>2</th>\n",
       "      <td>954184</td>\n",
       "      <td>0.567460</td>\n",
       "    </tr>\n",
       "    <tr>\n",
       "      <th>3</th>\n",
       "      <td>954113</td>\n",
       "      <td>0.577344</td>\n",
       "    </tr>\n",
       "    <tr>\n",
       "      <th>4</th>\n",
       "      <td>953980</td>\n",
       "      <td>0.520930</td>\n",
       "    </tr>\n",
       "    <tr>\n",
       "      <th>...</th>\n",
       "      <td>...</td>\n",
       "      <td>...</td>\n",
       "    </tr>\n",
       "    <tr>\n",
       "      <th>255525</th>\n",
       "      <td>56938</td>\n",
       "      <td>0.533984</td>\n",
       "    </tr>\n",
       "    <tr>\n",
       "      <th>255526</th>\n",
       "      <td>57304</td>\n",
       "      <td>0.623529</td>\n",
       "    </tr>\n",
       "    <tr>\n",
       "      <th>255527</th>\n",
       "      <td>56711</td>\n",
       "      <td>0.707258</td>\n",
       "    </tr>\n",
       "    <tr>\n",
       "      <th>255528</th>\n",
       "      <td>57303</td>\n",
       "      <td>0.560887</td>\n",
       "    </tr>\n",
       "    <tr>\n",
       "      <th>255529</th>\n",
       "      <td>57221</td>\n",
       "      <td>0.585306</td>\n",
       "    </tr>\n",
       "  </tbody>\n",
       "</table>\n",
       "<p>255530 rows × 2 columns</p>\n",
       "</div>"
      ],
      "text/plain": [
       "        image_id     score\n",
       "0         953619  0.563710\n",
       "1         953958  0.469841\n",
       "2         954184  0.567460\n",
       "3         954113  0.577344\n",
       "4         953980  0.520930\n",
       "...          ...       ...\n",
       "255525     56938  0.533984\n",
       "255526     57304  0.623529\n",
       "255527     56711  0.707258\n",
       "255528     57303  0.560887\n",
       "255529     57221  0.585306\n",
       "\n",
       "[255530 rows x 2 columns]"
      ]
     },
     "execution_count": 7,
     "metadata": {},
     "output_type": "execute_result"
    }
   ],
   "source": [
    "images_data = images_data[['image_id', 'score']]\n",
    "images_data"
   ]
  },
  {
   "cell_type": "code",
   "execution_count": 8,
   "id": "0fe08832-52a0-4f7d-9228-3d053c24d65b",
   "metadata": {
    "pycharm": {
     "name": "#%%\n"
    }
   },
   "outputs": [],
   "source": [
    "ids_to_use = []\n",
    "with open(AVA_DATASET_BASE_PATH + \"/aesthetics_image_lists/generic_ls_train.jpgl\", \"r\") as file:\n",
    "    for l in file:\n",
    "        ids_to_use.append(l)\n",
    "with open(AVA_DATASET_BASE_PATH + \"/aesthetics_image_lists/generic_test.jpgl\", \"r\") as file:\n",
    "    for l in file:\n",
    "        ids_to_use.append(int(l.rstrip()))\n",
    "ids_to_use = set(ids_to_use)"
   ]
  },
  {
   "cell_type": "code",
   "execution_count": 9,
   "id": "c1a608fe-36c6-42d5-8507-1500303d9f94",
   "metadata": {
    "pycharm": {
     "name": "#%%\n"
    }
   },
   "outputs": [
    {
     "data": {
      "text/html": [
       "<div>\n",
       "<style scoped>\n",
       "    .dataframe tbody tr th:only-of-type {\n",
       "        vertical-align: middle;\n",
       "    }\n",
       "\n",
       "    .dataframe tbody tr th {\n",
       "        vertical-align: top;\n",
       "    }\n",
       "\n",
       "    .dataframe thead th {\n",
       "        text-align: right;\n",
       "    }\n",
       "</style>\n",
       "<table border=\"1\" class=\"dataframe\">\n",
       "  <thead>\n",
       "    <tr style=\"text-align: right;\">\n",
       "      <th></th>\n",
       "      <th>image_id</th>\n",
       "      <th>score</th>\n",
       "    </tr>\n",
       "  </thead>\n",
       "  <tbody>\n",
       "    <tr>\n",
       "      <th>4</th>\n",
       "      <td>953980</td>\n",
       "      <td>0.520930</td>\n",
       "    </tr>\n",
       "    <tr>\n",
       "      <th>48</th>\n",
       "      <td>954013</td>\n",
       "      <td>0.675000</td>\n",
       "    </tr>\n",
       "    <tr>\n",
       "      <th>83</th>\n",
       "      <td>953630</td>\n",
       "      <td>0.528226</td>\n",
       "    </tr>\n",
       "    <tr>\n",
       "      <th>141</th>\n",
       "      <td>771289</td>\n",
       "      <td>0.557895</td>\n",
       "    </tr>\n",
       "    <tr>\n",
       "      <th>151</th>\n",
       "      <td>771082</td>\n",
       "      <td>0.524848</td>\n",
       "    </tr>\n",
       "    <tr>\n",
       "      <th>...</th>\n",
       "      <td>...</td>\n",
       "      <td>...</td>\n",
       "    </tr>\n",
       "    <tr>\n",
       "      <th>255490</th>\n",
       "      <td>56554</td>\n",
       "      <td>0.443902</td>\n",
       "    </tr>\n",
       "    <tr>\n",
       "      <th>255491</th>\n",
       "      <td>57078</td>\n",
       "      <td>0.581405</td>\n",
       "    </tr>\n",
       "    <tr>\n",
       "      <th>255500</th>\n",
       "      <td>56459</td>\n",
       "      <td>0.534440</td>\n",
       "    </tr>\n",
       "    <tr>\n",
       "      <th>255503</th>\n",
       "      <td>57306</td>\n",
       "      <td>0.589370</td>\n",
       "    </tr>\n",
       "    <tr>\n",
       "      <th>255505</th>\n",
       "      <td>57261</td>\n",
       "      <td>0.667557</td>\n",
       "    </tr>\n",
       "  </tbody>\n",
       "</table>\n",
       "<p>19930 rows × 2 columns</p>\n",
       "</div>"
      ],
      "text/plain": [
       "        image_id     score\n",
       "4         953980  0.520930\n",
       "48        954013  0.675000\n",
       "83        953630  0.528226\n",
       "141       771289  0.557895\n",
       "151       771082  0.524848\n",
       "...          ...       ...\n",
       "255490     56554  0.443902\n",
       "255491     57078  0.581405\n",
       "255500     56459  0.534440\n",
       "255503     57306  0.589370\n",
       "255505     57261  0.667557\n",
       "\n",
       "[19930 rows x 2 columns]"
      ]
     },
     "execution_count": 9,
     "metadata": {},
     "output_type": "execute_result"
    }
   ],
   "source": [
    "images_data = images_data[images_data['image_id'].isin(ids_to_use)]\n",
    "images_data"
   ]
  },
  {
   "cell_type": "code",
   "execution_count": 10,
   "id": "8b5a8469-6d59-4f54-a296-bf29e1655457",
   "metadata": {
    "pycharm": {
     "name": "#%%\n"
    }
   },
   "outputs": [
    {
     "data": {
      "text/plain": [
       "(array([  10.,   55.,  375., 1805., 5602., 5250., 4995., 1582.,  239.,\n",
       "          17.]),\n",
       " array([0.20668896, 0.26902007, 0.33135117, 0.39368227, 0.45601338,\n",
       "        0.51834448, 0.58067559, 0.64300669, 0.70533779, 0.7676689 ,\n",
       "        0.83      ]),\n",
       " <BarContainer object of 10 artists>)"
      ]
     },
     "execution_count": 10,
     "metadata": {},
     "output_type": "execute_result"
    },
    {
     "data": {
      "image/png": "[encoded data removed]",
      "text/plain": [
       "<Figure size 432x288 with 1 Axes>"
      ]
     },
     "metadata": {
      "needs_background": "light"
     },
     "output_type": "display_data"
    }
   ],
   "source": [
    "plt.hist(images_data['score'])"
   ]
  },
  {
   "cell_type": "code",
   "execution_count": 11,
   "id": "aaa6107a-1a81-4b9b-a2f1-6e4426bf11bc",
   "metadata": {
    "pycharm": {
     "name": "#%%\n"
    }
   },
   "outputs": [
    {
     "data": {
      "text/plain": [
       "0.5448402117532216"
      ]
     },
     "execution_count": 11,
     "metadata": {},
     "output_type": "execute_result"
    }
   ],
   "source": [
    "images_data['score'].mean()"
   ]
  },
  {
   "cell_type": "code",
   "execution_count": 12,
   "id": "734affb9-1dba-4f84-a812-098885f3174c",
   "metadata": {
    "pycharm": {
     "name": "#%%\n"
    }
   },
   "outputs": [
    {
     "data": {
      "text/plain": [
       "0.11938479456958635"
      ]
     },
     "execution_count": 12,
     "metadata": {},
     "output_type": "execute_result"
    }
   ],
   "source": [
    "(abs(images_data['score']-images_data['score'].mean())/images_data['score']).mean()"
   ]
  },
  {
   "cell_type": "code",
   "execution_count": 13,
   "id": "596abe6a-53e4-418b-80c2-4e708ccdbb34",
   "metadata": {
    "pycharm": {
     "name": "#%%\n"
    }
   },
   "outputs": [],
   "source": [
    "images_data = images_data.sample(len(images_data))\n",
    "images_data['path'] = images_data['image_id'].map(lambda x: IMAGES_PATH.format(image_id=x))\n",
    "images_data['score'] = (images_data['score']>0.5).astype('int')"
   ]
  },
  {
   "cell_type": "code",
   "execution_count": 14,
   "id": "4b7a1616-00f9-4fc8-a2ee-a45392521bf8",
   "metadata": {
    "pycharm": {
     "name": "#%%\n"
    }
   },
   "outputs": [
    {
     "data": {
      "text/plain": [
       "0.7111891620672354"
      ]
     },
     "execution_count": 14,
     "metadata": {},
     "output_type": "execute_result"
    }
   ],
   "source": [
    "(images_data['score']==1).mean()"
   ]
  },
  {
   "cell_type": "code",
   "execution_count": null,
   "outputs": [],
   "source": [
    "import pandas as pd\n",
    "import numpy as np\n",
    "from tensorflow import keras\n",
    "import matplotlib.pyplot as plt\n",
    "import matplotlib.image as mpimg\n",
    "import h5py\n",
    "import cv2\n",
    "from tensorflow.keras.layers import Flatten, Dense, Input,concatenate, Reshape\n",
    "from tensorflow.keras.layers import Conv2D, MaxPooling2D\n",
    "from tensorflow.keras.layers import Activation, Dropout\n",
    "from tensorflow.keras.models import Model\n",
    "from tensorflow.keras.models import Sequential\n",
    "from tensorflow.keras.applications.vgg16 import VGG16\n",
    "from tensorflow.keras.applications.mobilenet import preprocess_input\n",
    "from tensorflow.keras.preprocessing.image import ImageDataGenerator\n",
    "from tensorflow.keras.optimizers import Adam\n",
    "from tensorflow.keras.callbacks import EarlyStopping\n",
    "\n",
    "import tensorflow as tf"
   ],
   "metadata": {
    "collapsed": false,
    "pycharm": {
     "name": "#%%\n"
    }
   }
  },
  {
   "cell_type": "code",
   "execution_count": null,
   "outputs": [],
   "source": [
    "mobilenet = keras.applications.mobilenet.MobileNet()"
   ],
   "metadata": {
    "collapsed": false,
    "pycharm": {
     "name": "#%%\n"
    }
   }
  },
  {
   "cell_type": "code",
   "execution_count": null,
   "outputs": [],
   "source": [
    "mobilenet.summary()"
   ],
   "metadata": {
    "collapsed": false,
    "pycharm": {
     "name": "#%%\n"
    }
   }
  },
  {
   "cell_type": "code",
   "execution_count": null,
   "outputs": [],
   "source": [
    "outencoder = mobilenet.layers[-6].output"
   ],
   "metadata": {
    "collapsed": false,
    "pycharm": {
     "name": "#%%\n"
    }
   }
  },
  {
   "cell_type": "code",
   "execution_count": null,
   "outputs": [],
   "source": [
    "encoder = Model(inputs=mobilenet.input, outputs=outencoder)\n",
    "encoder.trainable = False"
   ],
   "metadata": {
    "collapsed": false,
    "pycharm": {
     "name": "#%%\n"
    }
   }
  },
  {
   "cell_type": "code",
   "execution_count": null,
   "outputs": [],
   "source": [
    "input_regressor = encoder(mobilenet.input)\n",
    "\n",
    "dense1 = Dense(256, activation='tanh')(input_regressor)\n",
    "regressor = Dense(1, activation='sigmoid')(dense1)\n",
    "\n",
    "final_model = Model(inputs=mobilenet.input, outputs=regressor)"
   ],
   "metadata": {
    "collapsed": false,
    "pycharm": {
     "name": "#%%\n"
    }
   }
  },
  {
   "cell_type": "code",
   "execution_count": null,
   "outputs": [],
   "source": [
    "final_model.summary()"
   ],
   "metadata": {
    "collapsed": false,
    "pycharm": {
     "name": "#%%\n"
    }
   }
  },
  {
   "cell_type": "code",
   "execution_count": null,
   "outputs": [],
   "source": [
    "BATCH_SIZE = 64"
   ],
   "metadata": {
    "collapsed": false,
    "pycharm": {
     "name": "#%%\n"
    }
   }
  },
  {
   "cell_type": "code",
   "execution_count": null,
   "outputs": [],
   "source": [
    "from keras import backend as K\n",
    "\n",
    "def earth_mover_distance(**kwargs):\n",
    "    \"\"\"\n",
    "    Wrapper for earth_mover distance for unified interface with self-guided earth mover distance loss.\n",
    "    \"\"\"\n",
    "    def _earth_mover_distance(\n",
    "            y_true: K.placeholder,\n",
    "            y_pred: K.placeholder\n",
    "    ) -> K.placeholder:\n",
    "        y_true = tf.cast(y_true, tf.float32)\n",
    "        return tf.reduce_mean(tf.square(tf.cumsum(y_true, axis=-1) - tf.cumsum(y_pred, axis=-1)), axis=-1)\n",
    "\n",
    "    return _earth_mover_distance"
   ],
   "metadata": {
    "collapsed": false,
    "pycharm": {
     "name": "#%%\n"
    }
   }
  },
  {
   "cell_type": "code",
   "execution_count": null,
   "outputs": [],
   "source": [
    "train_generator = ImageDataGenerator(width_shift_range=0.15, \n",
    "                                     height_shift_range=0.15,\n",
    "                                     horizontal_flip=False, \n",
    "                                     vertical_flip=False,\n",
    "                                     zoom_range=0,\n",
    "                                     validation_split=0.15,\n",
    "                                     preprocessing_function=preprocess_input)\n",
    "\n",
    "test_generator = ImageDataGenerator(preprocessing_function=preprocess_input) \n",
    "\n",
    "traingen = train_generator.flow_from_dataframe(images_data,\n",
    "                                               x_col='path',\n",
    "                                               y_col='score',\n",
    "                                               target_size=(224, 224),\n",
    "                                               class_mode='raw',\n",
    "                                               subset='training',\n",
    "                                               batch_size=BATCH_SIZE, \n",
    "                                               shuffle=True,\n",
    "                                               seed=42)\n",
    "\n",
    "validgen = train_generator.flow_from_dataframe(images_data,\n",
    "                                               x_col='path',\n",
    "                                               y_col='score',\n",
    "                                               target_size=(224, 224),\n",
    "                                               class_mode='raw',\n",
    "                                               subset='validation',\n",
    "                                               batch_size=BATCH_SIZE,\n",
    "                                               shuffle=True,\n",
    "                                               seed=42)"
   ],
   "metadata": {
    "collapsed": false,
    "pycharm": {
     "name": "#%%\n"
    }
   }
  },
  {
   "cell_type": "code",
   "execution_count": null,
   "outputs": [],
   "source": [
    "final_model.compile(optimizer=Adam(0.0005), loss=earth_mover_distance(), metrics=['accuracy', tf.keras.metrics.AUC()])\n",
    "early_stop = EarlyStopping(monitor='val_accuracy',\n",
    "                           patience=6,\n",
    "                           restore_best_weights=True,\n",
    "                           mode='max')"
   ],
   "metadata": {
    "collapsed": false,
    "pycharm": {
     "name": "#%%\n"
    }
   }
  },
  {
   "cell_type": "code",
   "execution_count": 25,
   "id": "9bbe730a-819a-4375-8cfb-5da71f2af827",
   "metadata": {
    "pycharm": {
     "name": "#%%\n"
    }
   },
   "outputs": [],
   "source": [
    "final_model.compile(optimizer=Adam(0.0005), loss=earth_mover_distance(), metrics=['accuracy', tf.keras.metrics.AUC()])\n",
    "early_stop = EarlyStopping(monitor='val_accuracy',\n",
    "                           patience=6,\n",
    "                           restore_best_weights=True,\n",
    "                           mode='max')"
   ]
  },
  {
   "cell_type": "code",
   "execution_count": 26,
   "id": "6e391b2a-641a-4191-94ff-df024e0320c4",
   "metadata": {
    "pycharm": {
     "name": "#%%\n"
    }
   },
   "outputs": [
    {
     "name": "stdout",
     "output_type": "stream",
     "text": [
      "Epoch 1/40\n",
      "152/264 [================>.............] - ETA: 2:10 - loss: 0.2000 - accuracy: 0.7176 - auc: 0.6408"
     ]
    },
    {
     "name": "stderr",
     "output_type": "stream",
     "text": [
      "/home/jian01/.pyenv/versions/3.9.5/envs/general/lib/python3.9/site-packages/PIL/TiffImagePlugin.py:866: UserWarning: Truncated File Read\n",
      "  warnings.warn(str(msg))\n"
     ]
    },
    {
     "name": "stdout",
     "output_type": "stream",
     "text": [
      "264/264 [==============================] - 370s 1s/step - loss: 0.1950 - accuracy: 0.7196 - auc: 0.6627 - val_loss: 0.1882 - val_accuracy: 0.7283 - val_auc: 0.7048\n",
      "Epoch 2/40\n",
      "264/264 [==============================] - 361s 1s/step - loss: 0.1767 - accuracy: 0.7402 - auc: 0.7308 - val_loss: 0.1898 - val_accuracy: 0.7208 - val_auc: 0.6979\n",
      "Epoch 3/40\n",
      "264/264 [==============================] - 353s 1s/step - loss: 0.1698 - accuracy: 0.7518 - auc: 0.7551 - val_loss: 0.1868 - val_accuracy: 0.7194 - val_auc: 0.7067\n",
      "Epoch 4/40\n",
      "264/264 [==============================] - 352s 1s/step - loss: 0.1637 - accuracy: 0.7632 - auc: 0.7729 - val_loss: 0.1846 - val_accuracy: 0.7245 - val_auc: 0.7027\n",
      "Epoch 5/40\n",
      "264/264 [==============================] - 352s 1s/step - loss: 0.1571 - accuracy: 0.7752 - auc: 0.7927 - val_loss: 0.1830 - val_accuracy: 0.7354 - val_auc: 0.7020\n",
      "Epoch 6/40\n",
      "264/264 [==============================] - 354s 1s/step - loss: 0.1506 - accuracy: 0.7849 - auc: 0.8118 - val_loss: 0.1864 - val_accuracy: 0.7347 - val_auc: 0.7149\n",
      "Epoch 7/40\n",
      "264/264 [==============================] - 354s 1s/step - loss: 0.1434 - accuracy: 0.7978 - auc: 0.8323 - val_loss: 0.1804 - val_accuracy: 0.7439 - val_auc: 0.7224\n",
      "Epoch 8/40\n",
      "264/264 [==============================] - 354s 1s/step - loss: 0.1382 - accuracy: 0.8088 - auc: 0.8412 - val_loss: 0.1824 - val_accuracy: 0.7323 - val_auc: 0.7197\n",
      "Epoch 9/40\n",
      "264/264 [==============================] - 356s 1s/step - loss: 0.1309 - accuracy: 0.8213 - auc: 0.8605 - val_loss: 0.1819 - val_accuracy: 0.7391 - val_auc: 0.7160\n",
      "Epoch 10/40\n",
      "264/264 [==============================] - 356s 1s/step - loss: 0.1242 - accuracy: 0.8348 - auc: 0.8759 - val_loss: 0.1861 - val_accuracy: 0.7300 - val_auc: 0.7084\n",
      "Epoch 11/40\n",
      "264/264 [==============================] - 359s 1s/step - loss: 0.1168 - accuracy: 0.8472 - auc: 0.8912 - val_loss: 0.1848 - val_accuracy: 0.7313 - val_auc: 0.7031\n",
      "Epoch 12/40\n",
      "264/264 [==============================] - 355s 1s/step - loss: 0.1114 - accuracy: 0.8556 - auc: 0.9026 - val_loss: 0.1842 - val_accuracy: 0.7296 - val_auc: 0.7129\n",
      "Epoch 13/40\n",
      "264/264 [==============================] - 357s 1s/step - loss: 0.1055 - accuracy: 0.8651 - auc: 0.9130 - val_loss: 0.1879 - val_accuracy: 0.7313 - val_auc: 0.7022\n"
     ]
    }
   ],
   "source": [
    "from PIL import ImageFile\n",
    "ImageFile.LOAD_TRUNCATED_IMAGES = True\n",
    "\n",
    "hist = final_model.fit(traingen,\n",
    "                     batch_size=BATCH_SIZE,\n",
    "                     epochs=40,\n",
    "                     validation_data=validgen,\n",
    "                     steps_per_epoch=traingen.samples // BATCH_SIZE,\n",
    "                     validation_steps=validgen.samples // BATCH_SIZE,\n",
    "                     callbacks=[early_stop])"
   ]
  },
  {
   "cell_type": "code",
   "execution_count": 27,
   "id": "8926a598-b8fe-4b07-8521-082a6484055e",
   "metadata": {
    "pycharm": {
     "name": "#%%\n"
    }
   },
   "outputs": [],
   "source": [
    "import os\n",
    "import pickle\n",
    "import tarfile\n",
    "from abc import abstractmethod, ABC\n",
    "from io import BytesIO\n",
    "from tempfile import NamedTemporaryFile, TemporaryDirectory\n",
    "from typing import Iterator, NamedTuple, Optional, overload, cast, List, Tuple, Union\n",
    "\n",
    "def get_bytes_from_model(model: Model) -> bytes:\n",
    "    model_path = TemporaryDirectory()\n",
    "\n",
    "    model.save(model_path.name)\n",
    "    with NamedTemporaryFile() as tar_temp_file:\n",
    "        with tarfile.open(tar_temp_file.name, mode=\"w:gz\") as archive:\n",
    "            archive.add(model_path.name, arcname=\"model\")\n",
    "\n",
    "        model_path.cleanup()\n",
    "        with open(tar_temp_file.name, \"rb\") as model_tarfile:\n",
    "            model_bytes = model_tarfile.read()\n",
    "    model_path.cleanup()\n",
    "    return model_bytes"
   ]
  },
  {
   "cell_type": "code",
   "execution_count": 28,
   "id": "e72272b9-c0b2-4ff3-92e9-5484dcb570b3",
   "metadata": {
    "pycharm": {
     "name": "#%%\n"
    }
   },
   "outputs": [
    {
     "name": "stdout",
     "output_type": "stream",
     "text": [
      "INFO:tensorflow:Assets written to: /tmp/tmpi9vvm4dj/assets\n"
     ]
    }
   ],
   "source": [
    "model_bytes = get_bytes_from_model(final_model)"
   ]
  },
  {
   "cell_type": "code",
   "execution_count": 29,
   "id": "dfc17da0-9819-47c5-ab1c-bd8d4ae3186b",
   "metadata": {
    "pycharm": {
     "name": "#%%\n"
    }
   },
   "outputs": [],
   "source": [
    "with open('../web-api/beauty_model.model', 'wb') as file:\n",
    "    file.write(model_bytes)"
   ]
  },
  {
   "cell_type": "code",
   "execution_count": null,
   "id": "884ded23-b65d-4598-92da-029e570d88ff",
   "metadata": {
    "pycharm": {
     "name": "#%%\n"
    }
   },
   "outputs": [],
   "source": []
  }
 ],
 "metadata": {
  "kernelspec": {
   "display_name": "Python 3",
   "language": "python",
   "name": "python3"
  },
  "language_info": {
   "codemirror_mode": {
    "name": "ipython",
    "version": 3
   },
   "file_extension": ".py",
   "mimetype": "text/x-python",
   "name": "python",
   "nbconvert_exporter": "python",
   "pygments_lexer": "ipython3",
   "version": "3.9.5"
  }
 },
 "nbformat": 4,
 "nbformat_minor": 5
}